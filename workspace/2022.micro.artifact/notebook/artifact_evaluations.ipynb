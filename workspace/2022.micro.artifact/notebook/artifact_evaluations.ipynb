{
 "cells": [
  {
   "cell_type": "markdown",
   "metadata": {},
   "source": [
    "# 计算机体系结构期末项目\n",
    "# Sparseloop: An Analytical Approach To Sparse Tensor Accelerator Modeling\n",
    "### 中山大学 计算机学院  刘佳瑜  21311592"
   ]
  },
  {
   "cell_type": "markdown",
   "metadata": {},
   "source": [
    "\n",
    "## 实验1: 数据表示格式比较\n",
    "\n",
    "### Step 1: 运行扫描"
   ]
  },
  {
   "cell_type": "code",
   "execution_count": null,
   "metadata": {
    "scrolled": true
   },
   "outputs": [],
   "source": [
    "%%bash\n",
    "cd ../evaluation_setups/fig1_format_comparison_setup/scripts\n",
    "echo \"input specs at: ../evaluation_setups/fig1_format_comparison_setup/\"\n",
    "chmod +x sweep.sh\n",
    "time ./sweep.sh"
   ]
  },
  {
   "cell_type": "markdown",
   "metadata": {},
   "source": [
    "### Step 2: 分析并生成图表"
   ]
  },
  {
   "cell_type": "code",
   "execution_count": null,
   "metadata": {},
   "outputs": [],
   "source": [
    "%%bash\n",
    "cd ../evaluation_setups/fig1_format_comparison_setup/scripts\n",
    "time python3 parse_and_plot.py"
   ]
  },
  {
   "cell_type": "code",
   "execution_count": null,
   "metadata": {},
   "outputs": [],
   "source": [
    "from IPython.display import Video, Image, HTML, display\n",
    "import matplotlib.pyplot as plt\n",
    "\n",
    "cycles_fig = \"../evaluation_setups/fig1_format_comparison_setup/outputs/fig_cycles.png\"\n",
    "energy_fig = \"../evaluation_setups/fig1_format_comparison_setup/outputs/fig_energy_pJ.png\"\n",
    "\n",
    "display(Image(cycles_fig))\n",
    "display(Image(energy_fig))"
   ]
  },
  {
   "cell_type": "markdown",
   "metadata": {},
   "source": [
    "## 实验2: EyerissV2 PE 验证\n",
    "\n",
    "### Step 1: 运行统计密度模型数据扫描"
   ]
  },
  {
   "cell_type": "code",
   "execution_count": null,
   "metadata": {
    "scrolled": true
   },
   "outputs": [],
   "source": [
    "%%bash\n",
    "cd ../evaluation_setups/fig12_eyerissv2_pe_setup/scripts\n",
    "echo \"input specs at: ../evaluation_setups/fig12_eyerissv2_pe_setup/\"\n",
    "time python3 sweep.py"
   ]
  },
  {
   "cell_type": "markdown",
   "metadata": {},
   "source": [
    "### Step 2: 分析并生成图表"
   ]
  },
  {
   "cell_type": "code",
   "execution_count": null,
   "metadata": {},
   "outputs": [],
   "source": [
    "%%bash\n",
    "cd ../evaluation_setups/fig12_eyerissv2_pe_setup/scripts\n",
    "python3 parse_and_plot.py"
   ]
  },
  {
   "cell_type": "code",
   "execution_count": null,
   "metadata": {},
   "outputs": [],
   "source": [
    "from IPython.display import Video, Image, HTML, display\n",
    "import matplotlib.pyplot as plt\n",
    "\n",
    "fig = \"../evaluation_setups/fig12_eyerissv2_pe_setup/outputs/uniform_only/fig.png\"\n",
    "\n",
    "display(Image(fig))"
   ]
  },
  {
   "cell_type": "markdown",
   "metadata": {},
   "source": [
    "### Step 3: 运行实际数据评估"
   ]
  },
  {
   "cell_type": "code",
   "execution_count": null,
   "metadata": {
    "scrolled": false
   },
   "outputs": [],
   "source": [
    "%%bash\n",
    "cd ../evaluation_setups/fig12_eyerissv2_pe_setup/scripts\n",
    "echo \"input specs at: ../evaluation_setups/fig12_eyerissv2_pe_setup/\"\n",
    "\n",
    "# update the number of max layers below (<=8) to see more bar groups in fig12, but the run will take longer\n",
    "time python3 sweep.py --include_actual --max_layers 3"
   ]
  },
  {
   "cell_type": "markdown",
   "metadata": {},
   "source": [
    "### Step 4: 分析并生成图表"
   ]
  },
  {
   "cell_type": "code",
   "execution_count": null,
   "metadata": {},
   "outputs": [],
   "source": [
    "%%bash\n",
    "cd ../evaluation_setups/fig12_eyerissv2_pe_setup/scripts\n",
    "python3 parse_and_plot.py --include_actual"
   ]
  },
  {
   "cell_type": "code",
   "execution_count": null,
   "metadata": {},
   "outputs": [],
   "source": [
    "from IPython.display import Video, Image, HTML, display\n",
    "import matplotlib.pyplot as plt\n",
    "\n",
    "fig = \"../evaluation_setups/fig12_eyerissv2_pe_setup/outputs/uniform_actual/fig.png\"\n",
    "\n",
    "display(Image(fig))"
   ]
  },
  {
   "cell_type": "markdown",
   "metadata": {},
   "source": [
    "## 实验3: Eyeriss验证\n",
    "### Step 1: 运行扫描"
   ]
  },
  {
   "cell_type": "code",
   "execution_count": null,
   "metadata": {
    "scrolled": true
   },
   "outputs": [],
   "source": [
    "%%bash\n",
    "cd ../evaluation_setups/table7_eyeriss_setup/scripts\n",
    "echo \"input specs at: ../evaluation_setups/table7_eyeriss_setup/\"\n",
    "time python3 sweep.py "
   ]
  },
  {
   "cell_type": "markdown",
   "metadata": {},
   "source": [
    "### Step 2: 分析并生成图表"
   ]
  },
  {
   "cell_type": "code",
   "execution_count": null,
   "metadata": {},
   "outputs": [],
   "source": [
    "%%bash\n",
    "cd ../evaluation_setups/table7_eyeriss_setup/scripts\n",
    "python3 parse_and_plot.py"
   ]
  },
  {
   "cell_type": "markdown",
   "metadata": {},
   "source": [
    "## 实验4: 双稀疏张量核（DSTC）验证\n",
    "### Step 1: 运行扫描"
   ]
  },
  {
   "cell_type": "code",
   "execution_count": null,
   "metadata": {},
   "outputs": [],
   "source": [
    "%%bash\n",
    "cd ../evaluation_setups/fig13_dstc_setup/scripts\n",
    "echo \"input specs at: ../evaluation_setups/fig13_dstc_setup/\"\n",
    "time python3 sweep.py"
   ]
  },
  {
   "cell_type": "markdown",
   "metadata": {},
   "source": [
    "### Step 2: 分析并绘制图表"
   ]
  },
  {
   "cell_type": "code",
   "execution_count": null,
   "metadata": {},
   "outputs": [],
   "source": [
    "%%bash\n",
    "cd ../evaluation_setups/fig13_dstc_setup/scripts\n",
    "python3 parse_and_plot.py"
   ]
  },
  {
   "cell_type": "code",
   "execution_count": null,
   "metadata": {},
   "outputs": [],
   "source": [
    "from IPython.display import Video, Image, HTML, display\n",
    "import matplotlib.pyplot as plt\n",
    "\n",
    "fig = \"../evaluation_setups/fig13_dstc_setup/outputs/fig.png\"\n",
    "\n",
    "display(Image(fig))"
   ]
  },
  {
   "cell_type": "markdown",
   "metadata": {},
   "source": [
    "## 实验5: 稀疏张量核（STD）验证\n",
    "### Step 1: 运行扫描"
   ]
  },
  {
   "cell_type": "code",
   "execution_count": null,
   "metadata": {
    "scrolled": false
   },
   "outputs": [],
   "source": [
    "%%bash\n",
    "cd ../evaluation_setups/fig15_stc_related_setup/scripts\n",
    "echo \"input specs at: ../evaluation_setups/fig15_stc_related_setup/\"\n",
    "time python3 sweep.py"
   ]
  },
  {
   "cell_type": "markdown",
   "metadata": {},
   "source": [
    "### Step2: 分析并生成表格"
   ]
  },
  {
   "cell_type": "code",
   "execution_count": null,
   "metadata": {},
   "outputs": [],
   "source": [
    "%%bash\n",
    "cd ../evaluation_setups/fig15_stc_related_setup/scripts\n",
    "python3 parse_and_plot.py --raw ../outputs/resnet50_selected/*"
   ]
  },
  {
   "cell_type": "code",
   "execution_count": null,
   "metadata": {},
   "outputs": [],
   "source": [
    "from IPython.display import Video, Image, HTML, display\n",
    "import matplotlib.pyplot as plt\n",
    "\n",
    "cycles_fig = \"../evaluation_setups/fig15_stc_related_setup/outputs/fig_cycles.png\"\n",
    "energy_fig = \"../evaluation_setups/fig15_stc_related_setup/outputs/fig_energy.png\"\n",
    "\n",
    "display(Image(cycles_fig))\n",
    "display(Image(energy_fig))"
   ]
  }
 ],
 "metadata": {
  "kernelspec": {
   "display_name": "Python 3",
   "language": "python",
   "name": "python3"
  },
  "language_info": {
   "codemirror_mode": {
    "name": "ipython",
    "version": 3
   },
   "file_extension": ".py",
   "mimetype": "text/x-python",
   "name": "python",
   "nbconvert_exporter": "python",
   "pygments_lexer": "ipython3",
   "version": "3.8.5"
  }
 },
 "nbformat": 4,
 "nbformat_minor": 4
}
